{
 "cells": [
  {
   "cell_type": "markdown",
   "metadata": {},
   "source": [
    "# SLT-CE-3: Deterministic Annealing"
   ]
  },
  {
   "cell_type": "markdown",
   "metadata": {},
   "source": [
    "<h2 style=\"background-color:#f0b375;\"> References </h2>"
   ]
  },
  {
   "cell_type": "markdown",
   "metadata": {},
   "source": [
    "<ol>\n",
    "<li> Deterministic annealing for clustering, compression, classification, regression, and related optimization\n",
    "problems, Kenneth Rose, 1998, http://ieeexplore.ieee.org/document/726788/\n",
    "</li>\n",
    "    \n",
    "<li>\n",
    "A Ratio Scale Metric and the Compatibility\n",
    "of Ratio Scales: The Possibility of\n",
    "Arrow’s Impossibility Theorem, T.L. Saalty, 1994, https://www.sciencedirect.com/science/article/pii/0893965994900930\n",
    "</li>\n",
    "\n",
    "<li>\n",
    "The wine data set, http://www3.dsi.uminho.pt/pcortez/wine5.pdf\n",
    "</li>\n",
    "    \n",
    "<li>\n",
    "Lecture 3, slide 19, https://ml2.inf.ethz.ch/courses/slt/lectures/slt18_lecture03.pdf\n",
    "</li>\n",
    "    \n",
    "</ol>"
   ]
  },
  {
   "cell_type": "markdown",
   "metadata": {},
   "source": [
    "<h2 style=\"background-color:#f0b375;\"> Setup </h2>"
   ]
  },
  {
   "cell_type": "markdown",
   "metadata": {},
   "source": [
    "Note: During the preprocessing part I have removed nonpositive data so that there would not be any division by zero error in ratioscale part."
   ]
  },
  {
   "cell_type": "code",
   "execution_count": 1,
   "metadata": {},
   "outputs": [],
   "source": [
    "import sklearn as skl\n",
    "import sklearn.model_selection\n",
    "import sklearn.cluster\n",
    "import matplotlib\n",
    "import matplotlib.pyplot as plt\n",
    "import numpy as np\n",
    "import pandas as pd\n",
    "\n",
    "# For ratioscale fit method\n",
    "import tensorflow as tf; tf.enable_eager_execution()\n",
    "import scipy as sp\n",
    "\n",
    "# Make sure to install treelib in the slt-ce conda environment: conda install treelib\n",
    "import treelib as tl\n",
    "\n",
    "from sklearn.utils.validation import check_is_fitted"
   ]
  },
  {
   "cell_type": "markdown",
   "metadata": {},
   "source": [
    "<h2 style=\"background-color:#f0b375;\">\n",
    "Section Preliminary\n",
    "<span style=font-size:50%> Complete all problems in this and previous sections to get a grade of 0.0 </span>\n",
    "</h2>\n",
    "\n",
    "<p style=\"background-color:#adebad;\">\n",
    "    Implement the function read_X_y_from_csv according to the contract in its docstring.\n",
    "</p>"
   ]
  },
  {
   "cell_type": "code",
   "execution_count": 2,
   "metadata": {},
   "outputs": [],
   "source": [
    "def read_X_y_from_csv(sheet, y_names=None):\n",
    "    \"\"\"Parse a column data store into X, y arrays\n",
    "\n",
    "    Args:\n",
    "        sheet (str): Path to csv data sheet.\n",
    "        y_names (list of str): List of column names used as labels.\n",
    "\n",
    "    Returns:\n",
    "        X (np.ndarray): Array with feature values from columns that are not contained in y_names (n_samples, n_features)\n",
    "        y (dict of np.ndarray): Dictionary with keys y_names, each key contains an array (n_samples, 1)\n",
    "                                with the label data from the corresponding column in sheet. \n",
    "    \"\"\"\n",
    "\n",
    "    # Your code goes here\n",
    "    X = pd.read_csv(sheet, header=0)\n",
    "    X = X[(X > 0).all(1)].reset_index()\n",
    "    y = X[y_names].copy()\n",
    "    X = X.drop(y_names, axis=1)\n",
    "    X = X.drop('index', axis=1)\n",
    "    return X.values, y.to_dict()"
   ]
  },
  {
   "cell_type": "markdown",
   "metadata": {},
   "source": [
    "<p style=\"background-color:#adebad;\">\n",
    "Read the wine data [3], which contains 11 physiochemical attributes, and two labels (quality and color).\n",
    "</p>"
   ]
  },
  {
   "cell_type": "code",
   "execution_count": 3,
   "metadata": {},
   "outputs": [],
   "source": [
    "X, y = read_X_y_from_csv(\"wine-data.csv\", y_names=[\"quality\", \"color\"])"
   ]
  },
  {
   "cell_type": "markdown",
   "metadata": {},
   "source": [
    "<h2 style=\"background-color:#f0b375;\">\n",
    "Section 4.0\n",
    "<span style=font-size:50%> Complete all problems in this and previous sections to get a grade of 4.0 </span>\n",
    "</h2>\n",
    "\n",
    "<p style=\"background-color:#adebad;\">\n",
    "    Read reference [1] about deterministic annealing clustering (DAC). Shortly summarize what they refer to as the <i>preferred implementation</i> of the DAC algorithm.\n",
    "</p>"
   ]
  },
  {
   "cell_type": "markdown",
   "metadata": {},
   "source": [
    "Put your markdown text here\n",
    "\n",
    "1. Initialise $T$ large.\n",
    "2. For $i = 1$ to $K$, update\n",
    "\n",
    "    $$ y_k = \\frac{\\sum_i x_i p(x_i) \\frac{\\exp\\left(-(x_i-y_k)^2 / T\\right)}{\\sum_k \\exp\\left(-(x_i-y_k)^2 / T\\right)}}{ \\sum_i p(x_i) \\frac{\\exp\\left(-(x_i-y_k)^2 / T\\right)}{\\sum_k \\exp\\left(-(x_i-y_k)^2 / T\\right)} } $$\n",
    "    \n",
    "    using an iterative update approach.\n",
    "\n",
    "3. Stop if $T$ is small.\n",
    "4. $T \\gets \\alpha T$, $\\alpha < 1$. Go back to (3)."
   ]
  },
  {
   "cell_type": "markdown",
   "metadata": {},
   "source": [
    "<p style=\"background-color:#adebad;\">\n",
    "    Implement the <b>fit method</b> for the template class DeterministicAnnealing, according to the contract outlined in its docstring.\n",
    "    You can add more class methods as necessary.\n",
    "    See http://scikit-learn.org/stable/modules/generated/sklearn.cluster.KMeans.html for complementary information.\n",
    "</p>"
   ]
  },
  {
   "cell_type": "code",
   "execution_count": 4,
   "metadata": {},
   "outputs": [],
   "source": [
    "def euclidean_proj_simplex(v, s=1):\n",
    "    \"\"\" Compute the Euclidean projection on a positive simplex\n",
    "\n",
    "    Solves the optimisation problem (using the algorithm from [1]):\n",
    "\n",
    "        min_w 0.5 * || w - v ||_2^2 , s.t. \\sum_i w_i = s, w_i >= 0 \n",
    "\n",
    "    Parameters\n",
    "    ----------\n",
    "    v: (n,) numpy array,\n",
    "       n-dimensional vector to project\n",
    "\n",
    "    s: int, optional, default: 1,\n",
    "       radius of the simplex\n",
    "\n",
    "    Returns\n",
    "    -------\n",
    "    w: (n,) numpy array,\n",
    "       Euclidean projection of v on the simplex\n",
    "\n",
    "    Notes\n",
    "    -----\n",
    "    The complexity of this algorithm is in O(n log(n)) as it involves sorting v.\n",
    "    Better alternatives exist for high-dimensional sparse vectors (cf. [1])\n",
    "    However, this implementation still easily scales to millions of dimensions.\n",
    "\n",
    "    References\n",
    "    ----------\n",
    "    [1] Efficient Projections onto the .1-Ball for Learning in High Dimensions\n",
    "        John Duchi, Shai Shalev-Shwartz, Yoram Singer, and Tushar Chandra.\n",
    "        International Conference on Machine Learning (ICML 2008)\n",
    "        http://www.cs.berkeley.edu/~jduchi/projects/DuchiSiShCh08.pdf\n",
    "    \"\"\"\n",
    "    assert s > 0, \"Radius s must be strictly positive (%d <= 0)\" % s\n",
    "    n, = v.shape  # will raise ValueError if v is not 1-D\n",
    "    # check if we are already on the simplex\n",
    "    if v.sum() == s and np.alltrue(v >= 0):\n",
    "        # best projection: itself!\n",
    "        return v\n",
    "    # get the array of cumulative sums of a sorted (decreasing) copy of v\n",
    "    u = np.sort(v)[::-1]\n",
    "    cssv = np.cumsum(u)\n",
    "    # get the number of > 0 components of the optimal solution\n",
    "    rho = np.nonzero(u * np.arange(1, n+1) > (cssv - s))[0][-1]\n",
    "    # compute the Lagrange multiplier associated to the simplex constraint\n",
    "    theta = (cssv[rho] - s) / (rho + 1.0)\n",
    "    # compute the projection by thresholding v using theta\n",
    "    w = (v - theta).clip(min=0)\n",
    "    return w"
   ]
  },
  {
   "cell_type": "code",
   "execution_count": 5,
   "metadata": {},
   "outputs": [],
   "source": [
    "class DeterministicAnnealingClustering(skl.base.BaseEstimator, skl.base.TransformerMixin):\n",
    "    \"\"\"Template class for DAC\n",
    "    \n",
    "    Attributes:\n",
    "        cluster_centers_ (np.ndarray): Cluster centroids y_i (n_clusters, n_features)\n",
    "        cluster_probabs_ (np.ndarray): Assignment probability vectors p(y_i | x) for each sample\n",
    "                                       (n_samples, n_clusters)\n",
    "        bifurcation_tree_ (treelib.Tree): Tree object that contains information about cluster evolution during\n",
    "                                          annealing.\n",
    "                                       \n",
    "    Parameters:\n",
    "        n_clusters (int): Maximum number of clusters returned by DAC.\n",
    "        random_state (int): Random seed.\n",
    "    \"\"\"\n",
    "    \n",
    "    def __init__(self, n_clusters=8, random_state=42, metric=\"euclidian\"):\n",
    "        self.n_clusters = n_clusters\n",
    "        self.random_state = random_state\n",
    "        self.metric = metric\n",
    "        # Add more parameters, if necessary.\n",
    "        self.t_decay = 0.9\n",
    "        self.distortions = []\n",
    "        self.n_eff_clusters = []\n",
    "        self.temp = []\n",
    "    \n",
    "    def fit(self, X):\n",
    "        \"\"\"Compute DAC for input vectors X\n",
    "        \n",
    "        Preferred implementation of DAC as described in reference [1].\n",
    "        Consider to use initialization and reseeding as in sklearn k-means for improved performance.\n",
    "        \n",
    "        Args:\n",
    "            X (np.ndarray): Input array with shape (samples, n_features)\n",
    "        \n",
    "        Returns:\n",
    "            self\n",
    "        \"\"\"\n",
    "        \n",
    "        if self.metric == \"euclidian\":\n",
    "            # Your code goes here\n",
    "            temperature = 1e5\n",
    "            \n",
    "            self.cluster_centers_ = np.zeros([self.n_clusters, X.shape[1]])\n",
    "            self.cluster_centers_ += np.average(X, axis=0) # by broadcasting\n",
    "            self.cluster_centers_ += np.random.normal(scale=1, size=self.cluster_centers_.shape) # add perturbations to centroids\n",
    "            \n",
    "            norm_diffs = np.linalg.norm(X[:, np.newaxis, :] - self.cluster_centers_[np.newaxis, :, :], axis=-1)\n",
    "            self.cluster_probabs_ = np.exp(-norm_diffs / temperature) / self.n_clusters # T -> inf => p(y_i) = 1/K\n",
    "            self.cluster_probabs_ /= np.sum(self.cluster_probabs_, axis=1)[:, np.newaxis]\n",
    "            \n",
    "            while temperature > .5:\n",
    "                prob_y = np.sum(self.cluster_probabs_ / X.shape[0], axis=0)\n",
    "                norm_diffs = np.linalg.norm(X[:, np.newaxis, :] - self.cluster_centers_[np.newaxis, :, :], axis=-1)\n",
    "                self.cluster_probabs_ = np.exp(-norm_diffs / temperature) * prob_y\n",
    "                self.cluster_probabs_ /= np.sum(self.cluster_probabs_, axis=1)[:, np.newaxis]\n",
    "                \n",
    "                self.cluster_centers_ = self.cluster_probabs_.T.dot(X) / X.shape[0]\n",
    "                self.cluster_centers_ /= np.sum(self.cluster_probabs_ / X.shape[0], axis=0)[:, np.newaxis]\n",
    "                \n",
    "                Y = np.linalg.norm(X[:, np.newaxis, :] - self.cluster_centers_[np.newaxis, :, :], axis=-1)\n",
    "                dist = np.mean(np.amin(Y, axis=1))\n",
    "                \n",
    "                self.distortions.append(dist)\n",
    "                eff_clusters = np.count_nonzero(~(np.triu(np.linalg.norm(self.cluster_centers_[:, np.newaxis, :] - self.cluster_centers_[np.newaxis, :, :], axis=-1) <= 0.5, 1)).any(0))\n",
    "                self.n_eff_clusters.append(eff_clusters)\n",
    "                self.temp.append(temperature)\n",
    "                \n",
    "                temperature = self.t_decay * temperature\n",
    "                    \n",
    "                                            \n",
    "        elif self.metric == \"ratioscale\":\n",
    "            \n",
    "            # code for extension\n",
    "            temperature = tf.Variable(1e3, dtype=tf.float64)\n",
    "            \n",
    "            self.cluster_centers_ = np.zeros([self.n_clusters, X.shape[1]])\n",
    "            self.cluster_centers_ += np.average(X, axis=0) # by broadcasting\n",
    "            self.cluster_centers_ += np.random.normal(scale=1e-1, size=self.cluster_centers_.shape) # add perturbations to centroids\n",
    "            self.cluster_centers_ = np.clip(self.cluster_centers_, 1e-6, np.inf)\n",
    "            norm_diffs = np.linalg.norm(X[:, np.newaxis, :] - self.cluster_centers_[np.newaxis, :, :], axis=-1)\n",
    "            self.cluster_centers_ = tf.contrib.eager.Variable(self.cluster_centers_)\n",
    "            \n",
    "            self.cluster_probabs_ = np.exp(-norm_diffs / 1e5) / self.n_clusters # T -> inf => p(y_i) = 1/K\n",
    "            self.cluster_probabs_ /= np.sum(self.cluster_probabs_, axis=1)[:, np.newaxis]\n",
    "            \n",
    "            self.cluster_probabs_ += np.random.normal(scale=1e-3, size=self.cluster_probabs_.shape) # add perturbations to centroids\n",
    "            self.cluster_probabs_ = tf.contrib.eager.Variable(self.cluster_probabs_, constraint=tf.nn.softmax)\n",
    "            self.cluster_probabs_.assign(tf.nn.softmax(self.cluster_probabs_))\n",
    "            \n",
    "            t_decay = tf.constant(self.t_decay, dtype=tf.float64)\n",
    "            \n",
    "            opt_p = tf.train.AdamOptimizer(learning_rate=3)\n",
    "            opt_c = tf.train.AdamOptimizer(learning_rate=1e-3)\n",
    "            \n",
    "            while temperature > .5:\n",
    "                for epoch in range(5):\n",
    "    \n",
    "                    with tf.GradientTape() as tape:\n",
    "                        tape.watch(self.cluster_probabs_)\n",
    "                        \n",
    "                        c = (X[:, :, None] / X[:, None, :])[:, None] / (self.cluster_centers_[:, :, None] / self.cluster_centers_[:, None, :])\n",
    "                        c = tf.reduce_sum(c, axis=(-1, -2))\n",
    "                        c = tf.log(c / X.shape[1] ** 2)\n",
    "                        probs = tf.reduce_sum(self.cluster_probabs_ / X.shape[0], axis=0)\n",
    "                        c = tf.reduce_sum(c * self.cluster_probabs_)\n",
    "                        loss = -(tf.reduce_sum(probs * tf.log(probs)) - 1/temperature * c) + \\\n",
    "                                tf.reduce_sum(probs)\n",
    "                        \n",
    "                    grads = tape.gradient(loss, [self.cluster_probabs_])\n",
    "                    opt_p.apply_gradients(zip(grads, [self.cluster_probabs_]))\n",
    "\n",
    "                for epoch in range(10):\n",
    "                    with tf.GradientTape() as tape:\n",
    "                        tape.watch(self.cluster_centers_)\n",
    "\n",
    "                        c = (X[:, :, None] / X[:, None, :])[:, None] / (self.cluster_centers_[:, :, None] / self.cluster_centers_[:, None, :])\n",
    "                        c = tf.reduce_sum(c, axis=(-1, -2))\n",
    "                        c = tf.log(c / X.shape[1] ** 2)\n",
    "                        probs = tf.reduce_sum(self.cluster_probabs_ / X.shape[0], axis=0)\n",
    "\n",
    "                        c = tf.reduce_sum(c * self.cluster_probabs_)\n",
    "\n",
    "                        loss = -(tf.reduce_sum(probs * tf.log(probs)) - 1/temperature * c)\n",
    "\n",
    "                    grads = tape.gradient(loss, [self.cluster_centers_])\n",
    "                    opt_c.apply_gradients(zip(grads, [self.cluster_centers_]))\n",
    "                    \n",
    "                temperature = temperature * t_decay\n",
    "        \n",
    "        return self\n",
    "    \n",
    "    def predict(self, X):\n",
    "        \"\"\"Predict assignment probability vectors for each sample in X.\n",
    "        \n",
    "        Args:\n",
    "            X (np.ndarray): Input array with shape (new_samples, n_features)\n",
    "            \n",
    "        Returns:\n",
    "            P (np.ndarray): Assignment probability vectors (new_samples, n_clusters) \n",
    "        \"\"\"\n",
    "        \n",
    "        # Your code goes here\n",
    "        \n",
    "        temperature = 1e5\n",
    "\n",
    "        norm_diffs = np.linalg.norm(X[:, np.newaxis, :] - self.cluster_centers_[np.newaxis, :, :], axis=-1)\n",
    "        P = np.exp(-norm_diffs / temperature) / self.n_clusters # T -> inf => p(y_i) = 1/K\n",
    "        P /= np.sum(P, axis=1)[:, np.newaxis]\n",
    "\n",
    "        while temperature > .5:\n",
    "            prob_y = np.sum(P / X.shape[0], axis=0)\n",
    "            norm_diffs = np.linalg.norm(X[:, np.newaxis, :] - self.cluster_centers_[np.newaxis, :, :], axis=-1)\n",
    "            P = np.exp(-norm_diffs / temperature) * prob_y\n",
    "            P /= np.sum(P, axis=1)[:, np.newaxis]\n",
    "\n",
    "            temperature = self.t_decay * temperature\n",
    "        \n",
    "        \n",
    "        return P\n",
    "    \n",
    "    def transform(self, X):\n",
    "        \"\"\"Transform X to a cluster-distance space.\n",
    "        \n",
    "        In the new space, each dimension is the distance to the cluster centers. \n",
    "        \n",
    "        Args:\n",
    "            X (np.ndarray): Input array with shape (new_samples, n_features)\n",
    "            \n",
    "        Returns:\n",
    "            Y (np.ndarray): Cluster-distance vectors (new_samples, n_clusters)\n",
    "        \"\"\"\n",
    "        check_is_fitted(self, [\"cluster_centers_\"])\n",
    "        \n",
    "        # Your code goes here\n",
    "        Y = np.linalg.norm(X[:, np.newaxis, :] - self.cluster_centers_[np.newaxis, :, :], axis=-1)\n",
    "        \n",
    "        return Y\n",
    "    \n",
    "    def plot_bifurcation(self):\n",
    "        \"\"\"Show the evolution of cluster splitting\"\"\"\n",
    "        check_is_fitted(self, [\"bifurcation_tree_\"])\n",
    "        \n",
    "        # Your code goes here\n",
    "        \n",
    "        return None\n",
    "        "
   ]
  },
  {
   "cell_type": "markdown",
   "metadata": {},
   "source": [
    "<p style=\"background-color:#adebad;\">\n",
    "    Create an instance of your DAC class with n_clusters = 2 and <b>fit the first 6000 samples</b> of the wine data set. Record the execution time. Furthermore, create an instance of the sklearn k-means class, and fit it with the same parameters. Again record the execution time.\n",
    "</p>"
   ]
  },
  {
   "cell_type": "code",
   "execution_count": 6,
   "metadata": {},
   "outputs": [
    {
     "name": "stderr",
     "output_type": "stream",
     "text": [
      "/home/mcreng/anaconda3/envs/tf/lib/python3.6/site-packages/sklearn/model_selection/_split.py:2026: FutureWarning: From version 0.21, test_size will always complement train_size unless both are specified.\n",
      "  FutureWarning)\n"
     ]
    }
   ],
   "source": [
    "X_train, X_test, y_train, y_test = skl.model_selection.train_test_split(X,\n",
    "                                                                        y[\"color\"],\n",
    "                                                                        train_size=6000,\n",
    "                                                                        random_state=42)"
   ]
  },
  {
   "cell_type": "code",
   "execution_count": 7,
   "metadata": {},
   "outputs": [
    {
     "name": "stdout",
     "output_type": "stream",
     "text": [
      "CPU times: user 280 ms, sys: 3.3 ms, total: 284 ms\n",
      "Wall time: 283 ms\n"
     ]
    }
   ],
   "source": [
    "%%time\n",
    "import sys\n",
    "np.set_printoptions(threshold=sys.maxsize)\n",
    "DAC = DeterministicAnnealingClustering(n_clusters=2, random_state=42)\n",
    "DAC.fit(X_train)"
   ]
  },
  {
   "cell_type": "code",
   "execution_count": 8,
   "metadata": {},
   "outputs": [
    {
     "name": "stdout",
     "output_type": "stream",
     "text": [
      "CPU times: user 279 ms, sys: 321 ms, total: 601 ms\n",
      "Wall time: 246 ms\n"
     ]
    }
   ],
   "source": [
    "%%time\n",
    "kmeans = skl.cluster.KMeans(n_clusters=2,random_state=42)\n",
    "kmeans.fit(X_train)"
   ]
  },
  {
   "cell_type": "code",
   "execution_count": 9,
   "metadata": {},
   "outputs": [
    {
     "name": "stdout",
     "output_type": "stream",
     "text": [
      "[[6.91384297e+00 2.86951692e-01 3.40856614e-01 7.34440577e+00\n",
      "  4.88724746e-02 4.01188686e+01 1.56835209e+02 9.94859656e-01\n",
      "  3.18930522e+00 5.00588684e-01 1.02356341e+01]\n",
      " [7.64011358e+00 3.91415462e-01 3.06981008e-01 3.15050209e+00\n",
      "  6.46070618e-02 1.87018050e+01 6.61846372e+01 9.94476179e-01\n",
      "  3.24356921e+00 5.67786120e-01 1.08070367e+01]]\n",
      "[[6.91301836e+00 2.86863152e-01 3.40879739e-01 7.35313981e+00\n",
      "  4.88933649e-02 4.01411434e+01 1.56873371e+02 9.94863235e-01\n",
      "  3.18927429e+00 5.00459123e-01 1.02339544e+01]\n",
      " [7.64035823e+00 3.91411966e-01 3.06989329e-01 3.14397866e+00\n",
      "  6.45625000e-02 1.86972180e+01 6.62374238e+01 9.94472006e-01\n",
      "  3.24354802e+00 5.67877287e-01 1.08085556e+01]]\n"
     ]
    }
   ],
   "source": [
    "print(DAC.cluster_centers_)\n",
    "print(kmeans.cluster_centers_)"
   ]
  },
  {
   "cell_type": "markdown",
   "metadata": {},
   "source": [
    "<h2 style=\"background-color:#f0b375;\">\n",
    "Section 4.5\n",
    "<span style=font-size:50%> Complete all problems in this and previous sections to get a grade of 4.5 </span>\n",
    "</h2>\n",
    "\n",
    "<p style=\"background-color:#adebad;\">\n",
    "    <ul style=\"background-color:#adebad;\">\n",
    "        <li> Implement the <b>predict method</b> for the template class DAC, according to the contract outlined in its docstring.\n",
    "        </li>\n",
    "        \n",
    "        <li>\n",
    "            Use DAC.predict and kmeans.predict to predict the cluster labels of X_test.\n",
    "        </li>\n",
    "        \n",
    "        <li>\n",
    "            Compute the confusion matrix between the two predictions as described in <br>\n",
    "            http://scikit-learn.org/stable/modules/generated/sklearn.metrics.confusion_matrix.html\n",
    "        </li>\n",
    "    </ul>\n",
    "</p>"
   ]
  },
  {
   "cell_type": "code",
   "execution_count": 10,
   "metadata": {},
   "outputs": [
    {
     "name": "stdout",
     "output_type": "stream",
     "text": [
      "CPU times: user 0 ns, sys: 3.37 ms, total: 3.37 ms\n",
      "Wall time: 1.88 ms\n"
     ]
    }
   ],
   "source": [
    "%%time\n",
    "y_kmeans = kmeans.predict(X_test)"
   ]
  },
  {
   "cell_type": "code",
   "execution_count": 11,
   "metadata": {},
   "outputs": [
    {
     "name": "stdout",
     "output_type": "stream",
     "text": [
      "CPU times: user 49.6 ms, sys: 25.7 ms, total: 75.3 ms\n",
      "Wall time: 33.5 ms\n"
     ]
    }
   ],
   "source": [
    "%%time\n",
    "y_DAC = DAC.predict(X_test)"
   ]
  },
  {
   "cell_type": "markdown",
   "metadata": {},
   "source": [
    "<ul style=\"background-color:#adebad;\">\n",
    "<li> Before we can compute the confusion matrix, we need to perform some post-processing on the DAC cluster assignments.\n",
    "    Explain what the function postprocess (defined below) does, and why we need it. To do so, complete the docstring of the function postprocess.\n",
    "        </li>\n",
    "</ul>"
   ]
  },
  {
   "cell_type": "code",
   "execution_count": 12,
   "metadata": {},
   "outputs": [],
   "source": [
    "def postprocess(y_DAC, y_kmeans):\n",
    "    \"\"\"This function maps the cluster centroid order in DAC.cluster_centers_ to the \n",
    "    order in kmeans.cluster_centers. \n",
    "    \n",
    "    It is done by identifying the data point with the highest probability to be \n",
    "    classified to each cluster in DAC, and find the index of that data point in kmeans.\n",
    "    Then, all indicies in y_DAC_hard is converted accordingly.\n",
    "    \n",
    "    We need this function since we wish to compare the performance of two clustering,\n",
    "    but doing so we require knowing the order of the cluster centroids otherwise we \n",
    "    could not compare.\n",
    "    \n",
    "    Arguments:\n",
    "        y_DAC (np.ndarray): Probabilities of each data point being assigned to each \n",
    "        centroid. (new_samples, n_centroids)\n",
    "        y_kmeans (np.ndarray): Indicies of centroid each data point is mapped to by \n",
    "        kmeans. (new_samples, )\n",
    "        \n",
    "    Returns:\n",
    "        np.ndarray: Indicies of centroid each data point is mapped to by DAC, aligned\n",
    "        with the order in kmeans. (new_samples, )\n",
    "    \"\"\"\n",
    "    \n",
    "    y_DAC_hard = np.argmax(y_DAC, axis=1)\n",
    "    \n",
    "    n_clusters = len(np.unique(y_DAC_hard))\n",
    "    dac2kmeans = []\n",
    "    for cluster in range(n_clusters):\n",
    "        argmax = np.argmax(y_DAC[:, cluster])\n",
    "        dac2kmeans.append(y_kmeans[argmax])\n",
    "    \n",
    "    y_DAC_new = []\n",
    "    for dac_label in y_DAC_hard:\n",
    "        y_DAC_new.append(dac2kmeans[dac_label])\n",
    "        \n",
    "    return np.array(y_DAC_new)"
   ]
  },
  {
   "cell_type": "code",
   "execution_count": 13,
   "metadata": {},
   "outputs": [
    {
     "data": {
      "text/plain": [
       "array([[205,   0],\n",
       "       [  0, 136]])"
      ]
     },
     "execution_count": 13,
     "metadata": {},
     "output_type": "execute_result"
    }
   ],
   "source": [
    "sklearn.metrics.confusion_matrix(y_kmeans, postprocess(y_DAC, y_kmeans))"
   ]
  },
  {
   "cell_type": "markdown",
   "metadata": {},
   "source": [
    "<h2 style=\"background-color:#f0b375;\">\n",
    "Section 5.0\n",
    "<span style=font-size:50%> Complete all problems in this and previous sections to get a grade of 5.0 </span>\n",
    "</h2>\n",
    "\n",
    "<ul style=\"background-color:#adebad;\">\n",
    "        <li> Implement the <b>transform method</b> for the template class DAC, according to the contract outlined in its docstring.\n",
    "        </li>\n",
    "        <li>\n",
    "        Use DAC.transform and kmeans.transform to transform both, X_train and X_test. \n",
    "        </li>\n",
    "       \n",
    "</ul>"
   ]
  },
  {
   "cell_type": "code",
   "execution_count": 14,
   "metadata": {},
   "outputs": [],
   "source": [
    "X_train_DAC = DAC.transform(X_train)\n",
    "X_test_DAC = DAC.transform(X_test)\n",
    "\n",
    "X_train_kmeans = kmeans.transform(X_train)\n",
    "X_test_kmeans = kmeans.transform(X_test)"
   ]
  },
  {
   "cell_type": "markdown",
   "metadata": {},
   "source": [
    "<ul style=\"background-color:#adebad;\">\n",
    "        <li>\n",
    "        Fit an SVM classifier with default parameters to the untransformed data, and to the transformed data.\n",
    "        Compare the performance of predicting whether the color of a wine is red or white.\n",
    "        </li>\n",
    "    </ul>"
   ]
  },
  {
   "cell_type": "code",
   "execution_count": 15,
   "metadata": {},
   "outputs": [
    {
     "data": {
      "text/plain": [
       "0.9501466275659824"
      ]
     },
     "execution_count": 15,
     "metadata": {},
     "output_type": "execute_result"
    }
   ],
   "source": [
    "svm = skl.svm.SVC(random_state=42)\n",
    "svm.fit(X_train, y_train)\n",
    "svm.score(X_test, y_test)"
   ]
  },
  {
   "cell_type": "code",
   "execution_count": 16,
   "metadata": {},
   "outputs": [
    {
     "data": {
      "text/plain": [
       "0.9384164222873901"
      ]
     },
     "execution_count": 16,
     "metadata": {},
     "output_type": "execute_result"
    }
   ],
   "source": [
    "svm_DAC = skl.svm.SVC(random_state=42)\n",
    "svm_DAC.fit(X_train_DAC, y_train)\n",
    "svm_DAC.score(X_test_DAC, y_test)"
   ]
  },
  {
   "cell_type": "code",
   "execution_count": 17,
   "metadata": {},
   "outputs": [
    {
     "data": {
      "text/plain": [
       "0.9384164222873901"
      ]
     },
     "execution_count": 17,
     "metadata": {},
     "output_type": "execute_result"
    }
   ],
   "source": [
    "svm = skl.svm.SVC(random_state=42)\n",
    "svm.fit(X_train_kmeans, y_train)\n",
    "svm.score(X_test_kmeans, y_test)"
   ]
  },
  {
   "cell_type": "markdown",
   "metadata": {},
   "source": [
    "<ul style=\"background-color:#adebad;\">\n",
    "        <li>\n",
    "        Produce two scatter plots, one for X_train_DAC and one for X_train_kmeans.<br>\n",
    "        Make the marker color indicate the wine color.\n",
    "        </li>\n",
    "    </ul>"
   ]
  },
  {
   "cell_type": "code",
   "execution_count": 18,
   "metadata": {},
   "outputs": [
    {
     "data": {
      "image/png": "[encoded data removed]",
      "text/plain": [
       "<Figure size 432x288 with 1 Axes>"
      ]
     },
     "metadata": {
      "needs_background": "light"
     },
     "output_type": "display_data"
    },
    {
     "data": {
      "image/png": "[encoded data removed]",
      "text/plain": [
       "<Figure size 432x288 with 1 Axes>"
      ]
     },
     "metadata": {
      "needs_background": "light"
     },
     "output_type": "display_data"
    }
   ],
   "source": [
    "plt.figure()\n",
    "plt.scatter(X_train_DAC[np.where(np.array(y_train)=='white'), 0], X_train_DAC[np.where(np.array(y_train)=='white'), 1], label='white')\n",
    "plt.scatter(X_train_DAC[np.where(np.array(y_train)=='red'), 0], X_train_DAC[np.where(np.array(y_train)=='red'), 1], label='red')\n",
    "plt.legend()\n",
    "plt.figure()\n",
    "plt.scatter(X_train_kmeans[np.where(np.array(y_train)=='white'), 0], X_train_kmeans[np.where(np.array(y_train)=='white'), 1], label='white')\n",
    "plt.scatter(X_train_kmeans[np.where(np.array(y_train)=='red'), 0], X_train_kmeans[np.where(np.array(y_train)=='red'), 1], label='red')\n",
    "plt.legend()\n",
    "plt.show()"
   ]
  },
  {
   "cell_type": "markdown",
   "metadata": {},
   "source": [
    "<h2 style=\"background-color:#f0b375;\">\n",
    "Section 5.5\n",
    "<span style=font-size:50%> Complete all problems in this and previous sections to get a grade of 5.5 </span>\n",
    "</h2>\n",
    "<ul style=\"background-color:#adebad;\">\n",
    "        <li>\n",
    "            Fit and transform X_train with DAC(n_clusters=3,4,5,6,7,8,...). Produce a plot of the SVM score svm_DAC.score(X_test_DAC, y_test) as a function of n_clusters.\n",
    "        </li>\n",
    "    </ul>\n",
    "</p>"
   ]
  },
  {
   "cell_type": "code",
   "execution_count": 19,
   "metadata": {},
   "outputs": [
    {
     "data": {
      "image/png": "[encoded data removed]",
      "text/plain": [
       "<Figure size 432x288 with 1 Axes>"
      ]
     },
     "metadata": {
      "needs_background": "light"
     },
     "output_type": "display_data"
    }
   ],
   "source": [
    "scores = []\n",
    "for cluster in range(2, 20):\n",
    "    average = 0\n",
    "    for _ in range(5):\n",
    "        DAC = DeterministicAnnealingClustering(n_clusters=cluster, random_state=42)\n",
    "        DAC.fit(X_train)\n",
    "        X_train_DAC = DAC.transform(X_train)\n",
    "        X_test_DAC = DAC.transform(X_test)\n",
    "        svm_DAC = skl.svm.SVC(random_state=42)\n",
    "        svm_DAC.fit(X_train_DAC, y_train)\n",
    "        average += svm_DAC.score(X_test_DAC, y_test)\n",
    "    scores.append(average / 5)\n",
    "    \n",
    "plt.xticks(list(range(2, 20)))\n",
    "plt.plot(list(range(2, 20)), scores, 'x-')\n",
    "plt.show()"
   ]
  },
  {
   "cell_type": "markdown",
   "metadata": {},
   "source": [
    "<ul style=\"background-color:#adebad;\">\n",
    "        <li>\n",
    "            Produce a phase diagram plot of the expected distortion D, as shown in figure 2 of reference [1]. For this, extend DAC.fit to save the expected distortion during annealing as an additional attribute self.distortion.\n",
    "            You might also want to save the number of effective clusters and the temperature along the way.\n",
    "        </li>\n",
    "    </ul>\n",
    "</p>"
   ]
  },
  {
   "cell_type": "code",
   "execution_count": 20,
   "metadata": {},
   "outputs": [
    {
     "data": {
      "image/png": "[encoded data removed]",
      "text/plain": [
       "<Figure size 1440x720 with 1 Axes>"
      ]
     },
     "metadata": {
      "needs_background": "light"
     },
     "output_type": "display_data"
    }
   ],
   "source": [
    "# extend DAC.fit(self, X):\n",
    "    # ...\n",
    "    # Save information for each (n-th) annealing step:\n",
    "    # self.distortion = [d0, d1, d2, ...]\n",
    "    # self.n_eff_clusters = [e0, e1, e2, ...]\n",
    "    # self.temp = [t0, t1, t2, ...]\n",
    "    # ...\n",
    "DAC = DeterministicAnnealingClustering()\n",
    "DAC.fit(X_train)\n",
    "\n",
    "d = np.array(DAC.distortions)\n",
    "d /= np.min(d)\n",
    "t = 1 / np.array(DAC.temp)\n",
    "t /= np.min(t)\n",
    "plt.figure(figsize=(20, 10))\n",
    "plt.plot(t, d)\n",
    "\n",
    "n = np.array(DAC.n_eff_clusters)\n",
    "idx = np.insert(np.nonzero(np.diff(n))[0] + 1, 0, 0)\n",
    "idx = np.insert(idx, len(idx), len(n)-1)\n",
    "\n",
    "for _ in t[idx]:\n",
    "    plt.axvline(_, color='r', linestyle='--')\n",
    "\n",
    "loc = 10 ** ((np.log10(t[idx[:-1]]) + np.log10(t[idx[1:]])) / 2 - 0.05)\n",
    "anno = n[(np.nonzero(np.diff(n))[0] + 1)]\n",
    "anno = np.insert(anno, 0, 1)\n",
    "for (l, a) in zip(loc, anno):\n",
    "    plt.text(l, 1, 'n={}'.format(a))\n",
    "    \n",
    "plt.show()"
   ]
  },
  {
   "cell_type": "markdown",
   "metadata": {},
   "source": [
    "<ul style=\"background-color:#adebad;\">\n",
    "        <li>\n",
    "            So far, our implementation of DAC assumed that our data is compatible with the euclidian metric. Argue why this assumption is not justified for the wine-data.\n",
    "        </li>\n",
    "    </ul>\n",
    "</p>"
   ]
  },
  {
   "cell_type": "markdown",
   "metadata": {},
   "source": [
    "Let's say for a property A, given three wines of value 1, 10, 20. Using Euclidean metric, we are assuming the data is additive in nature, i.e. second wine has a less improvement to the first one ($10-1=9$, comparing to the third to the second ($20-10=10$). However, if the values are in ratio, then the data has a multiplicative nature. So, the second wine would actually have a larger improvement to the first one ($10/1=10$), comparing to the third to the second ($20/10=2$). Using the Euclidean metric does not capture such property."
   ]
  },
  {
   "cell_type": "markdown",
   "metadata": {},
   "source": [
    "<ul style=\"background-color:#adebad;\">\n",
    "        <li>\n",
    "        All the features of the wine-data set are measured on a ratio scale, which is incompatible with the euclidian metric (Remark: this is not the complete answer to problem 6, argue why they are not compatible). A more appropriate distance is proposed in reference [2]:\n",
    "            <br><br>\n",
    "            $d(x,y)=\\log{ \\frac{1}{d^2} \\sum_{i,j=1}^d \\frac{x_i}{x_j} \\frac{y_j}{y_i}}$\n",
    "            <br><br>\n",
    "            Extend DAC.fit to the case of metric == ratioscale, using d(x,y) as given above.<br>\n",
    "            Hint: As this distance does not give a closed form update formula for the centroids $y$, you will need to do gradient descent to update the centroids. You can either calculate the gradient by hand, or use an automatic differentiation tool like Tensorflow. If you calculate the gradient by hand, provide the formula in Latex below.\n",
    "        </li>\n",
    "        <li>\n",
    "        Perform experiments to compare the euclidian and ratioscale metrics.\n",
    "    </li>\n",
    "</ul>\n"
   ]
  },
  {
   "cell_type": "code",
   "execution_count": 23,
   "metadata": {
    "scrolled": true
   },
   "outputs": [],
   "source": [
    "scores_r = []\n",
    "for cluster in [2, 5, 8, 10, 15, 20]:\n",
    "    DAC = DeterministicAnnealingClustering(n_clusters=cluster, random_state=42, metric='ratioscale')\n",
    "    DAC.fit(X_train)\n",
    "    X_train_DAC = DAC.transform(X_train)\n",
    "    X_test_DAC = DAC.transform(X_test)\n",
    "    svm_DAC = skl.svm.SVC(random_state=42)\n",
    "    svm_DAC.fit(X_train_DAC, y_train)\n",
    "    scores_r.append(svm_DAC.score(X_test_DAC, y_test))\n",
    "    "
   ]
  },
  {
   "cell_type": "markdown",
   "metadata": {},
   "source": [
    "Using ratioscale is consistently better."
   ]
  },
  {
   "cell_type": "code",
   "execution_count": 26,
   "metadata": {},
   "outputs": [
    {
     "data": {
      "image/png": "[encoded data removed]",
      "text/plain": [
       "<Figure size 432x288 with 1 Axes>"
      ]
     },
     "metadata": {
      "needs_background": "light"
     },
     "output_type": "display_data"
    }
   ],
   "source": [
    "plt.xticks(list(range(2, 20)))\n",
    "plt.plot(list(range(2, 20)), scores, 'x-', label='euclidean')\n",
    "plt.plot([2, 5, 8, 10, 15, 20], scores_r, '*--', label='ratioscale')\n",
    "plt.legend()\n",
    "plt.show()"
   ]
  },
  {
   "cell_type": "markdown",
   "metadata": {},
   "source": [
    "<h2 style=\"background-color:#f0b375;\">\n",
    "Section 6.0\n",
    "<span style=font-size:50%> Complete all problems in this and previous sections to get a grade of 6.0 </span>\n",
    "</h2>\n",
    "\n",
    "<ul style=\"background-color:#adebad;\">\n",
    "        <li>\n",
    "        Implement DAC.plot_bifurcation, which should create a bifurcation plot as shown on slide 19 of lecture 3. As our data is not 1-dimensional as in the lecture slide, we will have to adapt our scheme, so that the distances between nodes of the tree make sense.<br>\n",
    "        Modify DAC.fit to keep track of the distances, using the tree object DAC.bifurcation\\_tree\\_. When a cluster splits, it creates two child nodes. Each node should store its centroid vector, and the distance to the parent centroid vector. After splitting, the parent node is not updated anymore.<br>\n",
    "        In the bifurcation plot, the horizontal distance of a child node to its parent node should be exactly the distance to the parent centroid vector. The two child nodes should move in opposite directions, i.e. one to the left of the parent and one to the right.\n",
    "        </li>\n",
    "    </ul>"
   ]
  },
  {
   "cell_type": "code",
   "execution_count": null,
   "metadata": {},
   "outputs": [],
   "source": []
  },
  {
   "cell_type": "markdown",
   "metadata": {},
   "source": [
    "<ul style=\"background-color:#adebad;\">\n",
    "        <li>\n",
    "        Argue how reasonable our method of plotting the bifurcation is. Explain how the 1D-distances between nodes (i.e. nodes that are not siblings) do not correspond exactly to the distances between centroids. Suggest ideas for improvement.\n",
    "        </li>\n",
    "    </ul>"
   ]
  },
  {
   "cell_type": "code",
   "execution_count": null,
   "metadata": {},
   "outputs": [],
   "source": []
  },
  {
   "cell_type": "markdown",
   "metadata": {},
   "source": [
    "<ul style=\"background-color:#adebad;\">\n",
    "    <li>\n",
    "        First create a fixed 2D embedding (e.g. with LLE, t-SNE, MDS) of the wine data and color the markers according to quality and color. Then run the DAC algorithm on the wine-data set for different n_clusters. Each time use marker shapes to display the cluster memberships, and compare to the labels color and quality.\n",
    "    </li>\n",
    "</ul>"
   ]
  },
  {
   "cell_type": "code",
   "execution_count": null,
   "metadata": {},
   "outputs": [],
   "source": []
  },
  {
   "cell_type": "markdown",
   "metadata": {},
   "source": [
    "<h2 style=\"background-color:#4286f4;\"> Comments </h2>\n",
    "\n",
    "Let us know what you liked about this exercise, and what we can improve!"
   ]
  },
  {
   "cell_type": "markdown",
   "metadata": {},
   "source": []
  }
 ],
 "metadata": {
  "kernelspec": {
   "display_name": "Python 3",
   "language": "python",
   "name": "python3"
  },
  "language_info": {
   "codemirror_mode": {
    "name": "ipython",
    "version": 3
   },
   "file_extension": ".py",
   "mimetype": "text/x-python",
   "name": "python",
   "nbconvert_exporter": "python",
   "pygments_lexer": "ipython3",
   "version": "3.6.4"
  },
  "varInspector": {
   "cols": {
    "lenName": 16,
    "lenType": 16,
    "lenVar": 40
   },
   "kernels_config": {
    "python": {
     "delete_cmd_postfix": "",
     "delete_cmd_prefix": "del ",
     "library": "var_list.py",
     "varRefreshCmd": "print(var_dic_list())"
    },
    "r": {
     "delete_cmd_postfix": ") ",
     "delete_cmd_prefix": "rm(",
     "library": "var_list.r",
     "varRefreshCmd": "cat(var_dic_list()) "
    }
   },
   "types_to_exclude": [
    "module",
    "function",
    "builtin_function_or_method",
    "instance",
    "_Feature"
   ],
   "window_display": false
  }
 },
 "nbformat": 4,
 "nbformat_minor": 2
}
