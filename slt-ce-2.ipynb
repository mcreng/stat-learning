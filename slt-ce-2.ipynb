{
 "cells": [
  {
   "cell_type": "markdown",
   "metadata": {},
   "source": [
    "# SLT-CE-2: Sampling"
   ]
  },
  {
   "cell_type": "markdown",
   "metadata": {},
   "source": [
    "In this coding exercise we will test various MCMC sampling procedures [1] introduced during the tutorial session. We will first try to solve the image reconstruction problem and then the traveling salesman problem."
   ]
  },
  {
   "cell_type": "markdown",
   "metadata": {},
   "source": [
    "## Task (image reconstruction problem)\n",
    "\n",
    "\n",
    "Given a noisy [binary image](https://en.wikipedia.org/wiki/Binary_image) one needs to recover the original through denoising. To do so we will use the prototypical [Ising model](https://en.wikipedia.org/wiki/Ising_model) from physics as explained in section 8.3.3 of [2]. An undirected graphical model is designed to model (i) the adherence of the reconstruction to the observed noisy image and (ii) the correlation between neighboring pixels. We are interested in recovering a single image, the most likely one, with respect to the underlying distribution i.e. we do MAP inference to discover the peak of the posterior distribution $p(image\\_reconstruction | noisy\\_observation)$.\n",
    "\n",
    "\n",
    "### References \n",
    "\n",
    "[1] http://www.cs.princeton.edu/courses/archive/spr06/cos598C/papers/AndrieuFreitasDoucetJordan2003.pdf\n",
    "\n",
    "[2] Bishop, Christopher M. \"Pattern Recognition and Machine Learning.\" (2006)."
   ]
  },
  {
   "cell_type": "markdown",
   "metadata": {},
   "source": [
    "## Model"
   ]
  },
  {
   "cell_type": "markdown",
   "metadata": {},
   "source": [
    "Given a noisy, binary image $y=(y_1,\\dots,y_n)$ where $y_i\\in\\{\\pm1\\}$ is the value of the i-th pixel, the Ising model tries to find a denoised image $x=(x_1,\\dots,x_n)$ by minimizing the following energy function:\n",
    "\n",
    "$$E(x|y) = - \\frac{\\beta}{2} \\sum_{i} \\frac{x_i}{\\lvert N_i\\rvert}\\sum_{j \\in N_i} x_j - \\mu \\sum_{i} x_i y_i$$\n",
    "\n",
    "where $N_i$ is the set of neighbors of pixel $i$. For a 2D image the pixel neighbourhood $N_i$ usually involves $\\lvert N_i\\rvert=$ 4 or 8 surrounding pixels. In this exercise we consider only the 4 pixel neigbourhood (up, down, left and right pixels). The undirected probabilistic graphical model from where the energy function $E(x|y)$ is derived is in more detail explained in [2]."
   ]
  },
  {
   "cell_type": "markdown",
   "metadata": {},
   "source": [
    " <h2 style=\"background-color:#f0b375;\"> Setup </h2>\n",
    "\n",
    "We start by importing necessary python packages."
   ]
  },
  {
   "cell_type": "code",
   "execution_count": null,
   "metadata": {},
   "outputs": [],
   "source": [
    "import matplotlib.image as mpimg\n",
    "import numpy as np\n",
    "import pandas as pd\n",
    "import matplotlib.pylab as plt\n",
    "import time\n",
    "\n",
    "from skimage.transform import resize\n",
    "from scipy.signal import fftconvolve\n",
    "from sklearn.metrics import hamming_loss\n",
    "\n",
    "from scipy.optimize import minimize_scalar\n",
    "from multiprocessing import cpu_count\n",
    "from pathos.multiprocessing import ProcessingPool as Pool\n",
    "\n",
    "import warnings\n",
    "warnings.filterwarnings('ignore')"
   ]
  },
  {
   "cell_type": "code",
   "execution_count": null,
   "metadata": {},
   "outputs": [],
   "source": [
    "def flower(size=None, p=0.3):\n",
    "    \"\"\"Load image data for denoising\n",
    "    \n",
    "    Args:\n",
    "        size (tuple): image size, default (300,300)\n",
    "        p (float): noise fraction in [0,1]\n",
    "        \n",
    "    Returns:\n",
    "        noisy: noisy image\n",
    "        img: ground truth image\n",
    "    \"\"\"\n",
    "    img = mpimg.imread(\"flower.png\")\n",
    "    img[img > 0.5] = 1\n",
    "    img[img <= 0.5] = -1\n",
    "    \n",
    "    if size is not None:\n",
    "        img = resize(img, size)\n",
    "        img[img > 0] = 1\n",
    "        img[img <= 0] = -1\n",
    "    \n",
    "    np.random.seed(13)\n",
    "\n",
    "    flip = np.random.choice([-1, 1], size=img.shape, p=[p, 1-p])\n",
    "\n",
    "    noisy = flip * img\n",
    "    \n",
    "    return noisy, img"
   ]
  },
  {
   "cell_type": "code",
   "execution_count": null,
   "metadata": {},
   "outputs": [],
   "source": [
    "noisy, img = flower()\n",
    "\n",
    "plt.figure(figsize=(10,10))\n",
    "plt.subplot(121)\n",
    "plt.imshow(img, cmap='gray')\n",
    "plt.subplot(122)\n",
    "plt.imshow(noisy,cmap='gray')\n",
    "plt.show()"
   ]
  },
  {
   "cell_type": "markdown",
   "metadata": {},
   "source": [
    "<h2 style=\"background-color:#f0b375;\">\n",
    "Section 4.0 \n",
    "<span style=font-size:50%> Complete all problems in this section to get a pass on this exercise. </span>\n",
    "</h2>\n",
    "\n",
    "<p style=\"background-color:#adebad;\">\n",
    "Shortly describe the following sampling procedures, and provide the key formulas. See <a href=\"https://medium.com/ibm-data-science-experience/markdown-for-jupyter-notebooks-cheatsheet-386c05aeebed\">markdown cheatsheet</a> for text editing.</p>\n",
    "\n",
    "- **Metropolis**: (Put your answer here)\n",
    "\n",
    "- **Metropolis-Hastings**: (Put your answer here)\n",
    "\n",
    "- **Simulated Annealing**: (Put your answer here)"
   ]
  },
  {
   "cell_type": "markdown",
   "metadata": {},
   "source": [
    "<p style=\"background-color:#adebad;\">\n",
    "    Implement the energy function introduced in the model section of the notebook.<br>\n",
    "    <b> (!)</b> Deliberately implement a naive solution, which explicitly performs (nested) loops to compute the sums. \n",
    "    </p>"
   ]
  },
  {
   "cell_type": "code",
   "execution_count": null,
   "metadata": {},
   "outputs": [],
   "source": [
    "def energy(img_noisy_observation, img_estimate, beta=2.5, mu=1):\n",
    "    \"\"\"Compute the energy for given estimate 'img_estimate' which\n",
    "    is our vector x in the original model, with respect to the \n",
    "    observation 'img_noisy_observation', which corresponds to the vector y in the model.\n",
    "\n",
    "    Args:\n",
    "        img_estimate (np.ndarray): estimated image matrix\n",
    "        img_noisy_observation (np.ndarray): noisy image matrix\n",
    "\n",
    "    Returns:\n",
    "        energy (float): energy of the estimate given observation\n",
    "    \"\"\"\n",
    "    height = img_estimate.shape[0]\n",
    "    width = img_estimate.shape[1]\n",
    "    \n",
    "    E = 0\n",
    "    for i in range(height):\n",
    "        for j in range(width):\n",
    "        #\n",
    "        #\n",
    "        # Your turn\n",
    "        #\n",
    "        #\n",
    "    \n",
    "    return E "
   ]
  },
  {
   "cell_type": "markdown",
   "metadata": {},
   "source": [
    "<p style=\"background-color:#adebad;\">Make sure to get the correct result:</p>"
   ]
  },
  {
   "cell_type": "code",
   "execution_count": null,
   "metadata": {
    "scrolled": true
   },
   "outputs": [],
   "source": [
    "assert np.isclose(energy(*flower()), -145700.75)"
   ]
  },
  {
   "cell_type": "markdown",
   "metadata": {},
   "source": [
    "<p style=\"background-color:#adebad;\">Implement metropolis sampling.<br>\n",
    "<b>(!)</b> Deliberately implement a naive solution, which loops over each pixel, attempts a flip, measures the energy before and after, and then decides whether to accept the flip, or not. Use the naive energy function from before.\n",
    "</p>"
   ]
  },
  {
   "cell_type": "code",
   "execution_count": null,
   "metadata": {},
   "outputs": [],
   "source": [
    "def metropolis(img_noisy_observation, epochs, T=1):\n",
    "    \"\"\"Metropolis sampling\n",
    "    \n",
    "    For each epoch, loop over every pixel and attempt flip using energy.\n",
    "\n",
    "    Args:\n",
    "        img_noisy_observation (np.ndarray): noisy image matrix\n",
    "        epochs (int): number of rounds over all pixels\n",
    "        T (float): Temperature of the simulation\n",
    "\n",
    "    Returns:\n",
    "        img_estimate (np.ndarray): reconstucted image estimate\n",
    "        energies (np.ndarray): energy after each epoch\n",
    "    \"\"\"\n",
    "    np.random.seed(7) # Always set the random seed to a lucky number\n",
    "    \n",
    "    height = img_noisy_observation.shape[0]\n",
    "    width = img_noisy_observation.shape[1]\n",
    "    n_pixels = height * width\n",
    "    \n",
    "    noisy_img = img_noisy_observation.copy()\n",
    "    estimate = img_noisy_observation.copy()\n",
    "    \n",
    "    energies = []\n",
    "    for e in range(epochs):\n",
    "        \n",
    "        if e == 0:\n",
    "            energies.append(energy(noisy_img, estimate))\n",
    "        \n",
    "        for cnt, idx in enumerate(np.random.permutation(n_pixels)):\n",
    "            \n",
    "            print(\"Finished {:6.2f}% of epoch {}\".format(cnt/n_pixels * 100, e+1), end=\"\\r\")\n",
    "            \n",
    "            #\n",
    "            #\n",
    "            # Your turn\n",
    "            #\n",
    "            #\n",
    "    \n",
    "        energies.append(energy(noisy_img, estimate))\n",
    "        \n",
    "    return estimate, np.asarray(energies)"
   ]
  },
  {
   "cell_type": "markdown",
   "metadata": {},
   "source": [
    "<p style=\"background-color:#adebad;\">\n",
    "    Evaluate your implemented metropolis algorithm, using the provided evaluation function.<br>\n",
    "    The energy should decrease over epochs. The reconstructed image should be a denoised version of the noisy image.\n",
    "    </p>"
   ]
  },
  {
   "cell_type": "code",
   "execution_count": null,
   "metadata": {},
   "outputs": [],
   "source": [
    "def evaluate_ising(method, img_noisy_observation, img_original, epochs=1, T=1, surpress=False):\n",
    "    \"\"\" Given a sampling method, we will run the sampling procedure \n",
    "    for the specifed number of epochs. We measure time and reconstruction\n",
    "    efficiency.\n",
    "\n",
    "    Args:\n",
    "        method (function pointer): sampling method\n",
    "        img_noisy_observation (np.ndarray): noisy image matrix\n",
    "        img_original (np.ndarray): original image matrix\n",
    "        epochs (int): number of epochs to run the sampling, one epoch means going through all pixels once.\n",
    "        T (float): The positive temperature of the simulation\n",
    "    \"\"\"\n",
    "\n",
    "    start_time = time.time()\n",
    "    img_estimate, energies = method(img_noisy_observation, epochs, T)\n",
    "    execution_time = time.time() - start_time\n",
    "\n",
    "    if not surpress:\n",
    "        f, (ax1, ax2, ax3) = plt.subplots(1, 3, figsize=(15,5))\n",
    "\n",
    "        ax1.plot(energies, marker=\"x\")\n",
    "        ax1.set_xlabel('epoch')\n",
    "        ax1.set_ylabel('energy')\n",
    "\n",
    "        ax2.imshow(img_estimate, cmap='gray')\n",
    "        ax2.set_title('Reconstruction')\n",
    "        ax2.get_xaxis().set_visible(False)\n",
    "        ax2.get_yaxis().set_visible(False)\n",
    "\n",
    "        ax3.imshow(img_noisy_observation, cmap='gray')\n",
    "        ax3.set_title('Input')\n",
    "        ax3.get_xaxis().set_visible(False)\n",
    "        ax3.get_yaxis().set_visible(False)\n",
    "\n",
    "        plt.suptitle(\"{} updates per second\".format(int(img_original.size*epochs/execution_time)))\n",
    "\n",
    "        plt.show()\n",
    "    \n",
    "    return energies[-1], hamming_loss(y_pred=img_estimate.flatten(), y_true=img_original.flatten())"
   ]
  },
  {
   "cell_type": "markdown",
   "metadata": {},
   "source": [
    "<p style=\"background-color:#adebad;\">\n",
    "    The naive implementation is incredibly slow, so we use a downsampled image for evaluation.\n",
    "</p>"
   ]
  },
  {
   "cell_type": "code",
   "execution_count": null,
   "metadata": {},
   "outputs": [],
   "source": [
    "E_metro = evaluate_ising(metropolis, *flower(size=(32,32), p=0.1), epochs=3)"
   ]
  },
  {
   "cell_type": "markdown",
   "metadata": {},
   "source": [
    "<h2 style=\"background-color:#f0b375;\">\n",
    "Section 4.5 \n",
    "<span style=font-size:50%> Complete all problems in this and previous sections to get a grade of 4.5 </span>\n",
    "</h2>"
   ]
  },
  {
   "cell_type": "markdown",
   "metadata": {},
   "source": [
    "<p style=\"background-color:#adebad;\">\n",
    "We are now considering a different problem. We want to solve the <a href=\"https://en.wikipedia.org/wiki/Travelling_salesman_problem\">traveling salesman problem</a> for N=532 major cities in the USA.\n",
    "</p>"
   ]
  },
  {
   "cell_type": "code",
   "execution_count": null,
   "metadata": {},
   "outputs": [],
   "source": [
    "coordinates = pd.read_csv(\"cities.csv\", names=['x', 'y'], sep=';', index_col=False)\n",
    "coordinates = np.asarray(coordinates)  # Nx2 array containing the coordiantes of the cities\n",
    "plt.scatter(coordinates[:,0], coordinates[:,1], s=3, c=\"r\", alpha=0.75)\n",
    "plt.show()"
   ]
  },
  {
   "cell_type": "markdown",
   "metadata": {},
   "source": [
    "<p style=\"background-color:#adebad;\">\n",
    "Implement the distance function for the TSP:\n",
    "</p>"
   ]
  },
  {
   "cell_type": "code",
   "execution_count": null,
   "metadata": {},
   "outputs": [],
   "source": [
    "def distance(coordinates, route=None):\n",
    "    \"\"\"Calculate travel distance.\n",
    "    \n",
    "    If no route is given, assumes that coordinates are travelled in order,\n",
    "    starting at the first entry, and connecting the last entry again with the first.\n",
    "    \n",
    "    Args:\n",
    "        coordinates (np.ndarray): route coordinates (assume in units of meters)\n",
    "        route: permutation of coordinate order\n",
    "        \n",
    "    Returns:\n",
    "        float: traveled distance in units of kilometers\n",
    "    \"\"\"\n",
    "     \n",
    "    if route is not None:\n",
    "        coordinates = coordinates[route]\n",
    "           \n",
    "    #\n",
    "    #\n",
    "    # Your turn\n",
    "    #\n",
    "    #\n",
    "        \n",
    "    return dist"
   ]
  },
  {
   "cell_type": "markdown",
   "metadata": {},
   "source": [
    "<p style=\"background-color:#adebad;\">\n",
    "Make sure it returns the correct value:\n",
    "</p>"
   ]
  },
  {
   "cell_type": "code",
   "execution_count": null,
   "metadata": {},
   "outputs": [],
   "source": [
    "assert np.isclose(distance(coordinates), 978.3514183630234)"
   ]
  },
  {
   "cell_type": "code",
   "execution_count": null,
   "metadata": {},
   "outputs": [],
   "source": [
    "def evaluate_tsp(method, coordinates, epochs=1):\n",
    "    \"\"\"Evaluate sampling method on coordinates\n",
    "    \n",
    "    Args:\n",
    "        method (function pointer): sampling method\n",
    "        coordinates (np.ndarray): city coordinates, shape Nx2\n",
    "        epochs (int): number of epochs to run the sampling\n",
    "    \"\"\"\n",
    "    np.random.seed(7)\n",
    "    N = coordinates.shape[0]\n",
    "    route = np.random.permutation(N)\n",
    " \n",
    "    start_time = time.time()\n",
    "    route, distances = method(coordinates, route, epochs)\n",
    "    execution_time = time.time() - start_time\n",
    "\n",
    "    if not (np.sort(route) == range(N)).all():\n",
    "        raise ValueError(\"Returned route is not valid!\")\n",
    "\n",
    "    x, y = coordinates[route, 0], coordinates[route, 1]\n",
    "    \n",
    "    plt.figure(figsize=(15, 5))\n",
    "    \n",
    "    plt.subplot(121)\n",
    "    plt.plot(distances, marker=\"o\", markersize=3)\n",
    "    plt.plot([0, len(distances)], [27686/1000,27686/1000], c=\"green\") # best known solution\n",
    "    plt.grid(axis=\"y\")\n",
    "    \n",
    "    plt.subplot(122, xticks=[], yticks=[])\n",
    "    plt.plot(x, y, alpha=0.5, c=\"blue\", marker=\"o\", markerfacecolor=\"red\", markersize=3, linewidth=1)\n",
    "    plt.plot([x[0], x[-1]], [y[0], y[-1]], alpha=0.5, c=\"blue\", linewidth=1)\n",
    "    \n",
    "    plt.show()"
   ]
  },
  {
   "cell_type": "markdown",
   "metadata": {},
   "source": [
    "<p style=\"background-color:#adebad;\">\n",
    "First, solve the traveling salesman problem with metropolis, and then with simulated annealing. <br>\n",
    "We consider all permutations of $(1,\\dots,N)$ as the solution space, so one route corresponds to one permutation. <br>\n",
    "As proposals use transpositions instead of pixel flips. <br>\n",
    "More precisely, pick a random index $i$, and exchange it with its successor, i.e. $(x_1,\\dots,x_i, x_{i+1},\\dots,x_N) \\rightarrow (x_1,\\dots,x_{i+1}, x_{i},\\dots,x_N)$.<br>\n",
    "    Keep in mind, that TSP goes in a cycle, so the successor of N is 1.\n",
    "</p>"
   ]
  },
  {
   "cell_type": "code",
   "execution_count": null,
   "metadata": {},
   "outputs": [],
   "source": [
    "def metropolis_tsp(coordinates, route=None, epochs=1, T=1):\n",
    "    \"\"\"Metropolis for TSP\n",
    "\n",
    "    Args:\n",
    "        coordinates (np.ndarray): initial route consisting of coordinates\n",
    "        epochs (int): number of loops through all cities.\n",
    "        T (float): Temperature of simulation\n",
    "\n",
    "    Returns:\n",
    "        route (np.ndarray): optimized route\n",
    "        distances (np.ndarray): travel distance after each epoch\n",
    "    \"\"\"\n",
    "    np.random.seed(7)\n",
    "    \n",
    "    N = coordinates.shape[0]\n",
    "    \n",
    "    if route is None:\n",
    "        route = np.random.permutation(N)\n",
    "    \n",
    "    distances = []\n",
    "    distances.append(distance(coordinates, route))\n",
    "    for e in range(epochs):\n",
    "        \n",
    "        for idx in np.random.permutation(N):\n",
    "            \n",
    "                #\n",
    "                #\n",
    "                # Your turn\n",
    "                #\n",
    "                #\n",
    "        \n",
    "        distances.append(distance(coordinates, route))\n",
    "\n",
    "    return np.asarray(route), np.asarray(distances)"
   ]
  },
  {
   "cell_type": "markdown",
   "metadata": {},
   "source": [
    "<p style=\"background-color:#adebad;\">\n",
    "Evaluate your metropolis algorithm for the traveling salesman problem.\n",
    "</p>"
   ]
  },
  {
   "cell_type": "code",
   "execution_count": null,
   "metadata": {},
   "outputs": [],
   "source": [
    "evaluate_tsp(metropolis_tsp, coordinates, epochs=1000)"
   ]
  },
  {
   "cell_type": "code",
   "execution_count": null,
   "metadata": {},
   "outputs": [],
   "source": [
    "def simulated_annealing(coordinates, route=None, epochs=1, T=20.0, eta=0.995):\n",
    "    \"\"\"Simulated Annealing for TSP\n",
    "\n",
    "    T(n) = T * eta**n\n",
    "\n",
    "    Args:\n",
    "        coordinates (np.ndarray): initial route consisting of coordinates\n",
    "        route (array): inital route\n",
    "        epochs (int): number of loops through all cities.\n",
    "        T (float): Initial temperature\n",
    "        eta (float): Exponential cooling rate\n",
    "\n",
    "    Returns:\n",
    "        route (np.ndarray): optimized route\n",
    "        distances (np.ndarray): travel distance after each epoch\n",
    "    \"\"\"\n",
    "    np.random.seed(7)\n",
    "    \n",
    "    N = coordinates.shape[0]\n",
    "    \n",
    "    if route is None:\n",
    "        route = np.random.permutation(N)\n",
    "    \n",
    "    distances = []\n",
    "    distances.append(distance(coordinates, route))\n",
    "\n",
    "    for e in range(epochs):\n",
    "        for idx in np.random.permutation(N):\n",
    "            \n",
    "        #\n",
    "        #\n",
    "        # Your turn\n",
    "        #\n",
    "        #\n",
    "                \n",
    "        distances.append(distance(coordinates, route))\n",
    "\n",
    "    return np.asarray(route), np.asarray(distances)"
   ]
  },
  {
   "cell_type": "markdown",
   "metadata": {},
   "source": [
    "<p style=\"background-color:#adebad;\">\n",
    "Evaluate your simulated annealing algorithm for the traveling salesman problem.\n",
    "</p>"
   ]
  },
  {
   "cell_type": "code",
   "execution_count": null,
   "metadata": {},
   "outputs": [],
   "source": [
    "evaluate_tsp(simulated_annealing, coordinates, epochs=1000)"
   ]
  },
  {
   "cell_type": "markdown",
   "metadata": {},
   "source": [
    "<h2 style=\"background-color:#f0b375;\">\n",
    "Section 5.0 \n",
    "<span style=font-size:50%> Complete all problems in this and previous sections to get a grade of 5.0 </span>\n",
    "</h2>"
   ]
  },
  {
   "cell_type": "markdown",
   "metadata": {},
   "source": [
    "<p style=\"background-color:#adebad;\">\n",
    "    Optimize the calculation of the naive metropolis for the Ising problem by taking into account that the energy change caused by a single flip depends only on the affected pixel's value, and its neighborhood.<br>\n",
    "    More precisely, implement the function local_energy_change, and use it in the method local_metropolis.\n",
    "</p>"
   ]
  },
  {
   "cell_type": "code",
   "execution_count": null,
   "metadata": {},
   "outputs": [],
   "source": [
    "def local_energy_change(noisy, estimate, i, j, beta, mu):\n",
    "    \"\"\"\n",
    "    \n",
    "    Local energy difference between unflipped and flipped pixel i,j \n",
    "    \n",
    "    Args:\n",
    "        noisy: noisy reference image\n",
    "        estimate: current denoising estimate\n",
    "        i,j: Position of pixel\n",
    "    \n",
    "    Returns:\n",
    "        float: local energy difference when pixel i,j is flipped \n",
    "    \"\"\"\n",
    "    height = estimate.shape[0]\n",
    "    width = estimate.shape[1]\n",
    "    \n",
    "    #\n",
    "    #\n",
    "    # Your turn\n",
    "    #\n",
    "    #\n",
    "\n",
    "    return dE\n",
    "\n",
    "def local_metropolis(img_noisy_observation, epochs, T=1, beta=2.5, mu=1):\n",
    "    \"\"\"Metropolis sampling\n",
    "    \n",
    "    For each epoch, loop over every pixel and attempt flip using local_energy_change \n",
    "\n",
    "    Args:\n",
    "        img_noisy_observation (np.ndarray): noisy image matrix\n",
    "        epochs (int): number of rounds over all pixels\n",
    "        T (float): Temperature of simulation\n",
    "\n",
    "    Returns:\n",
    "        img_estimate (np.ndarray): reconstucted image estimate\n",
    "        energies (np.ndarray): energy after each epoch\n",
    "    \"\"\"\n",
    "    np.random.seed(7) # Always set the random seed to a lucky number\n",
    "    \n",
    "    height = img_noisy_observation.shape[0]\n",
    "    width = img_noisy_observation.shape[1]\n",
    "    n_pixels = height * width\n",
    "    \n",
    "    noisy_img = img_noisy_observation.copy()\n",
    "    estimate = img_noisy_observation.copy()\n",
    "    \n",
    "    energies = []\n",
    "    for e in range(epochs):\n",
    "        \n",
    "        if e == 0:\n",
    "            energies.append(energy(noisy_img, estimate))\n",
    "        \n",
    "        for cnt, pix in enumerate(np.random.permutation(n_pixels)):\n",
    "            \n",
    "            #\n",
    "            #\n",
    "            # Your turn\n",
    "            #\n",
    "            #\n",
    "        \n",
    "        print(\"Finished epoch {}\".format(e+1), end=\"\\r\")\n",
    "        energies.append(energy(noisy_img, estimate))\n",
    "        \n",
    "    return estimate, np.asarray(energies)"
   ]
  },
  {
   "cell_type": "markdown",
   "metadata": {},
   "source": [
    "<p style=\"background-color:#adebad;\">\n",
    "    We run two evaluations, one for the small image, and one on the full image.\n",
    "    </p>"
   ]
  },
  {
   "cell_type": "code",
   "execution_count": null,
   "metadata": {},
   "outputs": [],
   "source": [
    "E_local = evaluate_ising(local_metropolis, *flower(size=(32,32), p=0.1), epochs=3, surpress=True);\n",
    "evaluate_ising(local_metropolis, *flower(), epochs=10)"
   ]
  },
  {
   "cell_type": "markdown",
   "metadata": {},
   "source": [
    "<p style=\"background-color:#adebad;\">\n",
    "    Make sure, metropolis and local_metropolis are equivalent:\n",
    "    </p>"
   ]
  },
  {
   "cell_type": "code",
   "execution_count": null,
   "metadata": {},
   "outputs": [],
   "source": [
    "assert E_metro == E_local"
   ]
  },
  {
   "cell_type": "markdown",
   "metadata": {},
   "source": [
    "<h2 style=\"background-color:#f0b375;\">\n",
    "Section 5.5 \n",
    "<span style=font-size:50%> Complete all problems in this and previous sections to get a grade of 5.5 </span>\n",
    "</h2>"
   ]
  },
  {
   "cell_type": "markdown",
   "metadata": {},
   "source": [
    "<p style=\"background-color:#adebad;\">\n",
    "    We can speed up metropolis for the Ising model even further by using vectorized operations, i.e. using operations on arrays instead of looping over pixels.<br>\n",
    "    Implement checkerboard_metropolis, which alternatingly updates two independent sub-grids at once.\n",
    "    Your final code must have only one for-loop, namely over epochs (not counting the loop over the two grids). Use fftconvolve to compute the neighborhood term of the energy difference.\n",
    "    </p>"
   ]
  },
  {
   "cell_type": "code",
   "execution_count": null,
   "metadata": {},
   "outputs": [],
   "source": [
    "def checkerboard_energy_change(noisy_img, estimate, grid, beta, mu):\n",
    "    \"\"\"Compute energy change when flipping pixels in grid\n",
    "    \n",
    "    When using the 4-neighborhood, a 2D image can be separated in two\n",
    "    independent grids, hence the name checkerboard.\n",
    "    All the pixels in one grid can be updated simultaneously, because they\n",
    "    are independent. Using this property, we can improve computational\n",
    "    efficiency by using vectorized operations instead of loops.\n",
    "    \n",
    "    Args:\n",
    "        noisy_img: Noisy reference image\n",
    "        estimate: Current image reconstruction\n",
    "        grid: Flat array or list of grid indices.\n",
    "    \n",
    "    Returns:\n",
    "        numpy.array: Energy change for each pixel in grid,\n",
    "            same size as grid.\n",
    "    \n",
    "    \"\"\"\n",
    "    #\n",
    "    #\n",
    "    # Your turn\n",
    "    #\n",
    "    #"
   ]
  },
  {
   "cell_type": "code",
   "execution_count": null,
   "metadata": {},
   "outputs": [],
   "source": [
    "def checkerboard_metropolis(img_noisy_observation, epochs=1, T=1, beta=2.5, mu=1):\n",
    "    \"\"\"Metropolis sampling\n",
    "    \n",
    "    Alternatingly update two independent grids\n",
    "\n",
    "    Args:\n",
    "        img_noisy_observation (np.ndarray): noisy image matrix\n",
    "        epochs (int): number of rounds over all pixels\n",
    "\n",
    "    Returns:\n",
    "        img_estimate (np.ndarray): reconstucted image estimate\n",
    "        energies (np.ndarray): energy after each epoch\n",
    "    \"\"\"\n",
    "    np.random.seed(7) # Always set the random seed to a lucky number\n",
    "\n",
    "    n_pixels = img_noisy_observation.size\n",
    "    \n",
    "    noisy_img = img_noisy_observation.copy()\n",
    "    estimate = img_noisy_observation.copy()\n",
    "    \n",
    "    #\n",
    "    #\n",
    "    # Your turn, definition of grids\n",
    "    #\n",
    "    #\n",
    "    \n",
    "    energies = []\n",
    "    for e in range(epochs):\n",
    "\n",
    "        if e == 0:\n",
    "            energies.append(energy(noisy_img, estimate))\n",
    "        \n",
    "        for grid in grids:\n",
    "                #\n",
    "                #\n",
    "                # Your turn\n",
    "                #\n",
    "                #\n",
    "                \n",
    "        print(\"Finished epoch {}\".format(e+1), end=\"\\r\")\n",
    "        energies.append(energy(noisy_img, estimate))\n",
    "        \n",
    "    return estimate, np.asarray(energies)"
   ]
  },
  {
   "cell_type": "markdown",
   "metadata": {},
   "source": [
    "<p style=\"background-color:#adebad;\">\n",
    "    Run the checkerboard_metropolis:\n",
    "    </p>"
   ]
  },
  {
   "cell_type": "code",
   "execution_count": null,
   "metadata": {},
   "outputs": [],
   "source": [
    "evaluate_ising(checkerboard_metropolis, *flower(), epochs=10)"
   ]
  },
  {
   "cell_type": "markdown",
   "metadata": {},
   "source": [
    "<p style=\"background-color:#adebad;\">\n",
    "    Run the experiment below, and explain the observed behavior!\n",
    "    </p>"
   ]
  },
  {
   "cell_type": "code",
   "execution_count": null,
   "metadata": {},
   "outputs": [],
   "source": [
    "Trange = np.linspace(0.2,0.8,10)\n",
    "loss = [evaluate_ising(checkerboard_metropolis, *flower(), epochs=10, T=T, surpress=True)[1]\n",
    "         for T in np.linspace(0.2,0.8,10)]\n",
    "\n",
    "plt.plot(Trange, loss, marker=\"o\")\n",
    "plt.ylabel(\"Hamming Loss\")\n",
    "plt.xlabel(\"Temperature\")\n",
    "plt.show()"
   ]
  },
  {
   "cell_type": "markdown",
   "metadata": {},
   "source": [
    "Write your explanation here"
   ]
  },
  {
   "cell_type": "markdown",
   "metadata": {},
   "source": [
    "<p style=\"background-color:#adebad;\">\n",
    "Run the experiment below, and explain the observed behavior!\n",
    "</p>"
   ]
  },
  {
   "cell_type": "code",
   "execution_count": null,
   "metadata": {},
   "outputs": [],
   "source": [
    "def find_Topt(p):\n",
    "    f = lambda T: evaluate_ising(checkerboard_metropolis, *flower(p=p), epochs=10, T=T, surpress=True)[1]\n",
    "    b = 1 if p < 0.55 else 20\n",
    "    result = minimize_scalar(f, options={\"xatol\": 0.001}, bounds=(0, 20), method=\"bounded\")\n",
    "    return result.x\n",
    "\n",
    "prange = np.arange(0.45, 0.55, 0.01)\n",
    "with Pool(cpu_count()) as pool:\n",
    "    Topt = pool.map(find_Topt, prange)\n",
    "    \n",
    "plt.plot(prange, Topt, marker=\"o\")\n",
    "plt.ylabel(\"Topt\")\n",
    "plt.xlabel(\"Noise p\")\n",
    "plt.show()"
   ]
  },
  {
   "cell_type": "markdown",
   "metadata": {},
   "source": [
    "Write your explanation here"
   ]
  },
  {
   "cell_type": "markdown",
   "metadata": {},
   "source": [
    "<h2 style=\"background-color:#f0b375;\">\n",
    "Section 6.0 \n",
    "<span style=font-size:50%> Complete all problems in this and previous sections to get a grade of 6.0 </span>\n",
    "</h2>\n",
    "\n",
    "<p style=\"background-color:#adebad;\">\n",
    "Implement a more sophisticated proposal distribution, which is more appropriate for TSP than simple transpositions. <br>\n",
    "Consider your idea successful, if the travel distance goes at least below 300.<br>\n",
    "Moreover, make sure that your algorithm fullfills detailed balanced by using the Metropolis-Hastings acceptance probability:<br>\n",
    "    $p_{accept}=\\min(\\frac{p(x\\rightarrow y)}{p(y\\rightarrow x)}e^{-\\frac{\\Delta E}{T}}$, 1)\n",
    "</p>"
   ]
  },
  {
   "cell_type": "code",
   "execution_count": null,
   "metadata": {},
   "outputs": [],
   "source": [
    "def myfancyalgorithm(coordinates, route=None, epochs=1):\n",
    "    \n",
    "    np.random.seed(7)\n",
    "    \n",
    "    #\n",
    "    #\n",
    "    # Your turn\n",
    "    #\n",
    "    #\n",
    "    \n",
    "    return np.asarray(route), np.asarray(distances) "
   ]
  },
  {
   "cell_type": "markdown",
   "metadata": {},
   "source": [
    "<p style=\"background-color:#adebad;\">\n",
    "Evaluate your more sophisticated algorithm for the traveling salesman problem.\n",
    "</p>"
   ]
  },
  {
   "cell_type": "code",
   "execution_count": null,
   "metadata": {},
   "outputs": [],
   "source": [
    "evaluate_tsp(myfancyalgorithm, coordinates, epochs=500)"
   ]
  },
  {
   "cell_type": "markdown",
   "metadata": {},
   "source": [
    "## Comments\n",
    "\n",
    "We hope you found this exercise instructive.\n",
    "\n",
    "Feel free to leave comments below, we will read them carefully."
   ]
  },
  {
   "cell_type": "markdown",
   "metadata": {},
   "source": []
  }
 ],
 "metadata": {
  "kernelspec": {
   "display_name": "Python 3",
   "language": "python",
   "name": "python3"
  },
  "language_info": {
   "codemirror_mode": {
    "name": "ipython",
    "version": 3
   },
   "file_extension": ".py",
   "mimetype": "text/x-python",
   "name": "python",
   "nbconvert_exporter": "python",
   "pygments_lexer": "ipython3",
   "version": "3.5.3"
  }
 },
 "nbformat": 4,
 "nbformat_minor": 2
}
